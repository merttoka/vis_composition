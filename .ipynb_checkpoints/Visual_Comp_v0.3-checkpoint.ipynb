{
 "cells": [
  {
   "cell_type": "code",
   "execution_count": 1,
   "metadata": {},
   "outputs": [
    {
     "name": "stdout",
     "output_type": "stream",
     "text": [
      "Populating the interactive namespace from numpy and matplotlib\n"
     ]
    }
   ],
   "source": [
    "%pylab inline\n",
    "\n",
    "import math\n",
    "import numpy as np"
   ]
  },
  {
   "cell_type": "markdown",
   "metadata": {},
   "source": [
    "### Scores"
   ]
  },
  {
   "cell_type": "code",
   "execution_count": 2,
   "metadata": {},
   "outputs": [],
   "source": [
    "# entropy of a given list of probabilities\n",
    "def H(prob):\n",
    "    if not 0.99999 <= np.sum(prob) <= 1.0001:\n",
    "        print(\"Probabilities must sum to 1.0. Use 'normalize(arr)'.\")\n",
    "        return \n",
    "    \n",
    "    _s = 0\n",
    "    for i in prob:\n",
    "        if(i > 0):\n",
    "            _s += i*math.log2(1.0/i)\n",
    "    return _s"
   ]
  },
  {
   "cell_type": "code",
   "execution_count": 3,
   "metadata": {},
   "outputs": [],
   "source": [
    "# returns visual information\n",
    "#  internal VI := probabilities are selected from the same row \n",
    "#  external VI := probabilities are selected from the same column \n",
    "def VI(prob, c = None):\n",
    "    if c == None:\n",
    "        c = max_H(len(prob))\n",
    "    return c - H(normalize(prob))"
   ]
  },
  {
   "cell_type": "markdown",
   "metadata": {},
   "source": [
    "### Utilities"
   ]
  },
  {
   "cell_type": "code",
   "execution_count": 4,
   "metadata": {},
   "outputs": [],
   "source": [
    "# returns the \"max entropy\" for a list of \"n\" elements\n",
    "def max_H(n):\n",
    "    return H(np.array([1/n]*n))"
   ]
  },
  {
   "cell_type": "code",
   "execution_count": 5,
   "metadata": {},
   "outputs": [],
   "source": [
    "# normalizes \"prob\"\n",
    "def normalize(prob):\n",
    "    return prob / np.sum(prob)"
   ]
  },
  {
   "cell_type": "code",
   "execution_count": 6,
   "metadata": {},
   "outputs": [],
   "source": [
    "# flattens a grouped probability list\n",
    "def flat(arr):\n",
    "    return [i for tup in arr for i in tup]"
   ]
  },
  {
   "cell_type": "markdown",
   "metadata": {},
   "source": [
    "### Calculate all scores"
   ]
  },
  {
   "cell_type": "code",
   "execution_count": 7,
   "metadata": {},
   "outputs": [],
   "source": [
    "# calculates \"VI_int\" and \"VI_ext\" scores from visual entity matrix \"O\"\n",
    "# gene = gene index                        (row)\n",
    "# param = [ group_index, param_index ]     (column)\n",
    "def calculate_VIs(O, gene, param):\n",
    "    c = max_H(len(O))\n",
    "    VI_int = VI(normalize( flat(O[gene,:]) ), c)\n",
    "    VI_ext = VI(normalize( [i[param[1]] for i in O[:,param[0]]] ), c)\n",
    "    return VI_int, VI_ext"
   ]
  },
  {
   "cell_type": "code",
   "execution_count": 8,
   "metadata": {},
   "outputs": [],
   "source": [
    "def calculate_pareto(vi_i_p, vi_e_p, vi_i, vi_e):\n",
    "    c_i = vi_i - vi_i_p\n",
    "    c_e = vi_e - vi_e_p\n",
    "    \n",
    "    if c_i < 0 or c_e < 0:\n",
    "        return -1\n",
    "    elif c_i > 0 or c_e > 0:\n",
    "        return 1\n",
    "    else:\n",
    "        return 0"
   ]
  },
  {
   "cell_type": "markdown",
   "metadata": {},
   "source": [
    "### Mutation method"
   ]
  },
  {
   "cell_type": "code",
   "execution_count": 91,
   "metadata": {},
   "outputs": [],
   "source": [
    "# mutates the given visual entity matrix \"0\"\n",
    "def mutate(O, ran):\n",
    "    def _mut(mat, gene_index=None, index=None, value=None):\n",
    "        # copy the matrix\n",
    "        _O = mat.copy()\n",
    "\n",
    "        ## choose a gene strip randomly\n",
    "        if gene_index is None:\n",
    "            gene_index = random.randint(0, len(_O))\n",
    "        gene = _O[gene_index]\n",
    "\n",
    "        ## choose a parameter in gene strip randomly\n",
    "        if index is None:\n",
    "            group_index = random.randint(0, len(gene))\n",
    "            index = ( group_index, random.randint(0, len(gene[group_index])) )\n",
    "\n",
    "        ## calculate prior VI scores\n",
    "        VI_i_p, VI_e_p = calculate_VIs(_O, gene_index, index)\n",
    "\n",
    "        ## choose a mutation value randomly\n",
    "        if value is None:\n",
    "            value = random.random()*ran*gene[index[0]][index[1]]\n",
    "\n",
    "        ## choose an operation randomly (add(1), substract(-1), no_change(0))\n",
    "        operation = random.choice([-1,0,1])\n",
    "\n",
    "        ## choose one neighbor randomly and adjust its value (left(-1), right(1))\n",
    "        neighbor = random.randint(0, len(gene[index[0]]))\n",
    "        while neighbor == index[1]:\n",
    "            neighbor = random.randint(0, len(gene[index[0]]))\n",
    "\n",
    "        ## apply mutation to the gene\n",
    "        dx = operation*value\n",
    "        select_group = gene[index[0]]\n",
    "        if select_group[index[1]]+dx >= 0 and select_group[neighbor]-dx >= 0:\n",
    "            gene[index[0]][index[1]] += operation*value\n",
    "            gene[index[0]][neighbor] += -operation*value\n",
    "\n",
    "        ## calculate VI scores\n",
    "        VI_i, VI_e = calculate_VIs(_O, gene_index, index)\n",
    "\n",
    "        ## calculate decisions\n",
    "        pareto = calculate_pareto(VI_i_p, VI_e_p, VI_i, VI_e)\n",
    "        \n",
    "        # -1 -> pick different gene\n",
    "        #  0 -> pick different mutation value\n",
    "        #  1 -> accept mutation\n",
    "        if pareto == -1:\n",
    "            return _mut(mat)\n",
    "        elif pareto == 0:\n",
    "            return _mut(mat, gene_index=gene_index, index=index)\n",
    "        elif pareto == 1:\n",
    "            return _O\n",
    "        \n",
    "    try:\n",
    "        return _mut(O)\n",
    "    except RecursionError as re:\n",
    "        print(\".\", end='')\n",
    "        return O"
   ]
  },
  {
   "cell_type": "markdown",
   "metadata": {},
   "source": [
    "### Run evolution"
   ]
  },
  {
   "cell_type": "code",
   "execution_count": 33,
   "metadata": {},
   "outputs": [],
   "source": [
    "## evolve 'O' for 'n' iterations\n",
    "def evolve(O, n=50, range=1):\n",
    "    _O = O.copy()\n",
    "\n",
    "    # run n iterations\n",
    "    for _ in np.arange(n):\n",
    "        # mutates the matrix\n",
    "        _O = mutate(_O, range)\n",
    "                \n",
    "    # returns evolved matrix\n",
    "    return _O"
   ]
  },
  {
   "cell_type": "markdown",
   "metadata": {},
   "source": [
    "### Show 2D"
   ]
  },
  {
   "cell_type": "code",
   "execution_count": 11,
   "metadata": {},
   "outputs": [],
   "source": [
    "# displays compositions as image\n",
    "def show_comp(O, size=(400,400), legend=False):\n",
    "    im = np.ones(size[:2])\n",
    "    \n",
    "    for rect_xy in O:\n",
    "        r_x = rect_xy[0]\n",
    "        r_y = rect_xy[1]\n",
    "        \n",
    "        sub_im = im[int(r_y[0]):int(r_y[0]+r_y[1]),\n",
    "                    int(r_x[0]):int(r_x[0]+r_x[1])]\n",
    "        im[int(r_y[0]):int(r_y[0]+r_y[1]),\n",
    "           int(r_x[0]):int(r_x[0]+r_x[1])] = np.logical_xor(sub_im, 1).astype(int)\n",
    "    \n",
    "    imshow(im, cmap='gray')\n",
    "    if legend is True:\n",
    "        colorbar()"
   ]
  },
  {
   "cell_type": "markdown",
   "metadata": {},
   "source": [
    "### Show 3D"
   ]
  },
  {
   "cell_type": "code",
   "execution_count": 12,
   "metadata": {},
   "outputs": [],
   "source": [
    "import matplotlib.pyplot as plt\n",
    "from mpl_toolkits.mplot3d import axes3d"
   ]
  },
  {
   "cell_type": "code",
   "execution_count": 13,
   "metadata": {},
   "outputs": [],
   "source": [
    "def create_voxel(O, size=(300,300,300)):\n",
    "    # create voxels\n",
    "    voxels = np.zeros(size[:3])\n",
    "    \n",
    "#     c_x, c_y, c_z = size[0]/compSize[0], size[1]/compSize[1], size[2]/compSize[2]\n",
    "    \n",
    "    # blocks\n",
    "    for rect_xyz in O:\n",
    "        r_x = rect_xyz[0]\n",
    "        r_y = rect_xyz[1]\n",
    "        r_z = rect_xyz[2]\n",
    "        \n",
    "        sub_v = voxels[int(r_z[0]):int(r_z[0]+r_z[1]),\n",
    "                       int(r_y[0]):int(r_y[0]+r_y[1]),\n",
    "                       int(r_x[0]):int(r_x[0]+r_x[1])]\n",
    "        voxels[int(r_z[0]):int(r_z[0]+r_z[1]),\n",
    "               int(r_y[0]):int(r_y[0]+r_y[1]),\n",
    "               int(r_x[0]):int(r_x[0]+r_x[1])] = np.logical_xor(sub_v, 1).astype(int)\n",
    "        \n",
    "    return voxels"
   ]
  },
  {
   "cell_type": "code",
   "execution_count": 14,
   "metadata": {},
   "outputs": [],
   "source": [
    "# show one composition\n",
    "def show_voxel(O, size=(300,300,300)):\n",
    "    fig = plt.figure(figsize=(5,4))\n",
    "    ax = fig.gca(projection='3d')\n",
    "    ax.voxels(create_voxel(O, size=size))\n",
    "    plt.show()"
   ]
  },
  {
   "cell_type": "markdown",
   "metadata": {},
   "source": [
    "### Create Matrices"
   ]
  },
  {
   "cell_type": "code",
   "execution_count": 15,
   "metadata": {},
   "outputs": [],
   "source": [
    "# total size of the image\n",
    "SIZE = (300, 300)\n",
    "\n",
    "# 5 compositions (2D) \n",
    "O = np.array([[(100,100,100), (100,100,100)], # (100,100,100)], # for 3D \n",
    "              [(100,100,100), (100,100,100)],\n",
    "              [(100,100,100), (100,100,100)],\n",
    "              [(100,100,100), (100,100,100)],\n",
    "              [(100,100,100), (100,100,100)]])"
   ]
  },
  {
   "cell_type": "code",
   "execution_count": 16,
   "metadata": {},
   "outputs": [],
   "source": [
    "# create 'n' compositions with 9 grid cells\n",
    "def create_compositions(n, ndim=2, size=(300,300)):\n",
    "#     if ndim != len(size):\n",
    "#         print(\"Number of dimension and length of size doesn't match: ndim={}, size={}\".format(ndim, size))\n",
    "#         return\n",
    "    return np.ones((n, ndim, 3))*(size[0]//3)"
   ]
  },
  {
   "cell_type": "markdown",
   "metadata": {},
   "source": [
    "### Testing"
   ]
  },
  {
   "cell_type": "code",
   "execution_count": 69,
   "metadata": {},
   "outputs": [],
   "source": [
    "# returns all negative items in the matrix\n",
    "def negatives(O):\n",
    "    return len(O[O[..., :] < 0])"
   ]
  },
  {
   "cell_type": "code",
   "execution_count": 92,
   "metadata": {},
   "outputs": [],
   "source": [
    "SIZE = (300,300)\n",
    "O = create_compositions(20)"
   ]
  },
  {
   "cell_type": "code",
   "execution_count": 108,
   "metadata": {},
   "outputs": [
    {
     "name": "stdout",
     "output_type": "stream",
     "text": [
      "0\n"
     ]
    },
    {
     "data": {
      "image/png": "[encoded data removed]",
      "text/plain": [
       "<Figure size 432x288 with 1 Axes>"
      ]
     },
     "metadata": {
      "needs_background": "light"
     },
     "output_type": "display_data"
    }
   ],
   "source": [
    "_O = evolve(O, n=5000, range=2.0)\n",
    "show_comp(_O, size=SIZE)\n",
    "print(negatives(_O))"
   ]
  },
  {
   "cell_type": "code",
   "execution_count": 51,
   "metadata": {},
   "outputs": [],
   "source": [
    "SIZE = (30,30,30)\n",
    "O_3D = create_compositions(20, 3, SIZE)"
   ]
  },
  {
   "cell_type": "code",
   "execution_count": 53,
   "metadata": {},
   "outputs": [
    {
     "data": {
      "image/png": "[encoded data removed]",
      "text/plain": [
       "<Figure size 360x288 with 1 Axes>"
      ]
     },
     "metadata": {
      "needs_background": "light"
     },
     "output_type": "display_data"
    }
   ],
   "source": [
    "_O_3D = evolve(O_3D, n=100, range=5.5)\n",
    "show_voxel(_O_3D, size=SIZE)"
   ]
  },
  {
   "cell_type": "code",
   "execution_count": 54,
   "metadata": {},
   "outputs": [
    {
     "data": {
      "image/png": "[encoded data removed]",
      "text/plain": [
       "<Figure size 360x288 with 1 Axes>"
      ]
     },
     "metadata": {
      "needs_background": "light"
     },
     "output_type": "display_data"
    }
   ],
   "source": [
    "_O_3D = evolve(O_3D, n=1000, range=5)\n",
    "show_voxel(_O_3D, size=SIZE)"
   ]
  },
  {
   "cell_type": "code",
   "execution_count": 57,
   "metadata": {},
   "outputs": [
    {
     "data": {
      "text/plain": [
       "array([ -1.45620171, -15.04962797,  46.50582968])"
      ]
     },
     "execution_count": 57,
     "metadata": {},
     "output_type": "execute_result"
    }
   ],
   "source": [
    "_O_3D[3][2]"
   ]
  },
  {
   "cell_type": "markdown",
   "metadata": {},
   "source": [
    "### .mat files"
   ]
  },
  {
   "cell_type": "code",
   "execution_count": 25,
   "metadata": {},
   "outputs": [],
   "source": [
    "from scipy.io import loadmat, savemat\n",
    "import datetime"
   ]
  },
  {
   "cell_type": "code",
   "execution_count": 26,
   "metadata": {},
   "outputs": [],
   "source": [
    "def load_mat(name):\n",
    "    fig = plt.figure(figsize=(12, 10))\n",
    "    im = loadmat(name)['instance']\n",
    "\n",
    "    ax = fig.gca(projection='3d')\n",
    "    ax.voxels(im, edgecolor=matplotlib.colors.colorConverter.to_rgba('black', alpha=.2), alpha=0.7)\n",
    "    plt.show()"
   ]
  },
  {
   "cell_type": "code",
   "execution_count": 27,
   "metadata": {},
   "outputs": [],
   "source": [
    "def save_mat(name, O, comp=True):\n",
    "    now = datetime.datetime.now()\n",
    "    obj = {'__header__': str.encode('MATLAB 5.0 MAT-file, Platform: GLNXA64, Created on: ' + \n",
    "                                    now.strftime(\"%a %b %d %H:%M:%S %Y\")),\n",
    "           '__version__': '1.0',\n",
    "           '__globals__': [],\n",
    "           'instance': create_voxel(O, size=(30,30,30), compSize=SIZE)}\n",
    "\n",
    "    ## write mat file\n",
    "    savemat(name, obj, do_compression=comp)"
   ]
  },
  {
   "cell_type": "markdown",
   "metadata": {},
   "source": [
    "#### Output files"
   ]
  },
  {
   "cell_type": "code",
   "execution_count": 28,
   "metadata": {},
   "outputs": [
    {
     "ename": "TypeError",
     "evalue": "buffer is too small for requested array",
     "output_type": "error",
     "traceback": [
      "\u001b[0;31m---------------------------------------------------------------------------\u001b[0m",
      "\u001b[0;31mTypeError\u001b[0m                                 Traceback (most recent call last)",
      "\u001b[0;32m<ipython-input-28-799b8184d593>\u001b[0m in \u001b[0;36m<module>\u001b[0;34m\u001b[0m\n\u001b[0;32m----> 1\u001b[0;31m \u001b[0mload_mat\u001b[0m\u001b[0;34m(\u001b[0m\u001b[0;34m'output/biasfree_5000.mat'\u001b[0m\u001b[0;34m)\u001b[0m\u001b[0;34m\u001b[0m\u001b[0;34m\u001b[0m\u001b[0m\n\u001b[0m",
      "\u001b[0;32m<ipython-input-26-f76b98fa11dd>\u001b[0m in \u001b[0;36mload_mat\u001b[0;34m(name)\u001b[0m\n\u001b[1;32m      1\u001b[0m \u001b[0;32mdef\u001b[0m \u001b[0mload_mat\u001b[0m\u001b[0;34m(\u001b[0m\u001b[0mname\u001b[0m\u001b[0;34m)\u001b[0m\u001b[0;34m:\u001b[0m\u001b[0;34m\u001b[0m\u001b[0;34m\u001b[0m\u001b[0m\n\u001b[1;32m      2\u001b[0m     \u001b[0mfig\u001b[0m \u001b[0;34m=\u001b[0m \u001b[0mplt\u001b[0m\u001b[0;34m.\u001b[0m\u001b[0mfigure\u001b[0m\u001b[0;34m(\u001b[0m\u001b[0mfigsize\u001b[0m\u001b[0;34m=\u001b[0m\u001b[0;34m(\u001b[0m\u001b[0;36m12\u001b[0m\u001b[0;34m,\u001b[0m \u001b[0;36m10\u001b[0m\u001b[0;34m)\u001b[0m\u001b[0;34m)\u001b[0m\u001b[0;34m\u001b[0m\u001b[0;34m\u001b[0m\u001b[0m\n\u001b[0;32m----> 3\u001b[0;31m     \u001b[0mim\u001b[0m \u001b[0;34m=\u001b[0m \u001b[0mloadmat\u001b[0m\u001b[0;34m(\u001b[0m\u001b[0mname\u001b[0m\u001b[0;34m)\u001b[0m\u001b[0;34m[\u001b[0m\u001b[0;34m'instance'\u001b[0m\u001b[0;34m]\u001b[0m\u001b[0;34m\u001b[0m\u001b[0;34m\u001b[0m\u001b[0m\n\u001b[0m\u001b[1;32m      4\u001b[0m \u001b[0;34m\u001b[0m\u001b[0m\n\u001b[1;32m      5\u001b[0m     \u001b[0max\u001b[0m \u001b[0;34m=\u001b[0m \u001b[0mfig\u001b[0m\u001b[0;34m.\u001b[0m\u001b[0mgca\u001b[0m\u001b[0;34m(\u001b[0m\u001b[0mprojection\u001b[0m\u001b[0;34m=\u001b[0m\u001b[0;34m'3d'\u001b[0m\u001b[0;34m)\u001b[0m\u001b[0;34m\u001b[0m\u001b[0;34m\u001b[0m\u001b[0m\n",
      "\u001b[0;32m~/miniconda3/envs/ox/lib/python3.9/site-packages/scipy/io/matlab/mio.py\u001b[0m in \u001b[0;36mloadmat\u001b[0;34m(file_name, mdict, appendmat, **kwargs)\u001b[0m\n\u001b[1;32m    222\u001b[0m     \u001b[0;32mwith\u001b[0m \u001b[0m_open_file_context\u001b[0m\u001b[0;34m(\u001b[0m\u001b[0mfile_name\u001b[0m\u001b[0;34m,\u001b[0m \u001b[0mappendmat\u001b[0m\u001b[0;34m)\u001b[0m \u001b[0;32mas\u001b[0m \u001b[0mf\u001b[0m\u001b[0;34m:\u001b[0m\u001b[0;34m\u001b[0m\u001b[0;34m\u001b[0m\u001b[0m\n\u001b[1;32m    223\u001b[0m         \u001b[0mMR\u001b[0m\u001b[0;34m,\u001b[0m \u001b[0m_\u001b[0m \u001b[0;34m=\u001b[0m \u001b[0mmat_reader_factory\u001b[0m\u001b[0;34m(\u001b[0m\u001b[0mf\u001b[0m\u001b[0;34m,\u001b[0m \u001b[0;34m**\u001b[0m\u001b[0mkwargs\u001b[0m\u001b[0;34m)\u001b[0m\u001b[0;34m\u001b[0m\u001b[0;34m\u001b[0m\u001b[0m\n\u001b[0;32m--> 224\u001b[0;31m         \u001b[0mmatfile_dict\u001b[0m \u001b[0;34m=\u001b[0m \u001b[0mMR\u001b[0m\u001b[0;34m.\u001b[0m\u001b[0mget_variables\u001b[0m\u001b[0;34m(\u001b[0m\u001b[0mvariable_names\u001b[0m\u001b[0;34m)\u001b[0m\u001b[0;34m\u001b[0m\u001b[0;34m\u001b[0m\u001b[0m\n\u001b[0m\u001b[1;32m    225\u001b[0m \u001b[0;34m\u001b[0m\u001b[0m\n\u001b[1;32m    226\u001b[0m     \u001b[0;32mif\u001b[0m \u001b[0mmdict\u001b[0m \u001b[0;32mis\u001b[0m \u001b[0;32mnot\u001b[0m \u001b[0;32mNone\u001b[0m\u001b[0;34m:\u001b[0m\u001b[0;34m\u001b[0m\u001b[0;34m\u001b[0m\u001b[0m\n",
      "\u001b[0;32m~/miniconda3/envs/ox/lib/python3.9/site-packages/scipy/io/matlab/mio4.py\u001b[0m in \u001b[0;36mget_variables\u001b[0;34m(self, variable_names)\u001b[0m\n\u001b[1;32m    389\u001b[0m         \u001b[0mmdict\u001b[0m \u001b[0;34m=\u001b[0m \u001b[0;34m{\u001b[0m\u001b[0;34m}\u001b[0m\u001b[0;34m\u001b[0m\u001b[0;34m\u001b[0m\u001b[0m\n\u001b[1;32m    390\u001b[0m         \u001b[0;32mwhile\u001b[0m \u001b[0;32mnot\u001b[0m \u001b[0mself\u001b[0m\u001b[0;34m.\u001b[0m\u001b[0mend_of_stream\u001b[0m\u001b[0;34m(\u001b[0m\u001b[0;34m)\u001b[0m\u001b[0;34m:\u001b[0m\u001b[0;34m\u001b[0m\u001b[0;34m\u001b[0m\u001b[0m\n\u001b[0;32m--> 391\u001b[0;31m             \u001b[0mhdr\u001b[0m\u001b[0;34m,\u001b[0m \u001b[0mnext_position\u001b[0m \u001b[0;34m=\u001b[0m \u001b[0mself\u001b[0m\u001b[0;34m.\u001b[0m\u001b[0mread_var_header\u001b[0m\u001b[0;34m(\u001b[0m\u001b[0;34m)\u001b[0m\u001b[0;34m\u001b[0m\u001b[0;34m\u001b[0m\u001b[0m\n\u001b[0m\u001b[1;32m    392\u001b[0m             \u001b[0mname\u001b[0m \u001b[0;34m=\u001b[0m \u001b[0masstr\u001b[0m\u001b[0;34m(\u001b[0m\u001b[0mhdr\u001b[0m\u001b[0;34m.\u001b[0m\u001b[0mname\u001b[0m\u001b[0;34m)\u001b[0m\u001b[0;34m\u001b[0m\u001b[0;34m\u001b[0m\u001b[0m\n\u001b[1;32m    393\u001b[0m             \u001b[0;32mif\u001b[0m \u001b[0mvariable_names\u001b[0m \u001b[0;32mis\u001b[0m \u001b[0;32mnot\u001b[0m \u001b[0;32mNone\u001b[0m \u001b[0;32mand\u001b[0m \u001b[0mname\u001b[0m \u001b[0;32mnot\u001b[0m \u001b[0;32min\u001b[0m \u001b[0mvariable_names\u001b[0m\u001b[0;34m:\u001b[0m\u001b[0;34m\u001b[0m\u001b[0;34m\u001b[0m\u001b[0m\n",
      "\u001b[0;32m~/miniconda3/envs/ox/lib/python3.9/site-packages/scipy/io/matlab/mio4.py\u001b[0m in \u001b[0;36mread_var_header\u001b[0;34m(self)\u001b[0m\n\u001b[1;32m    345\u001b[0m            \u001b[0mposition\u001b[0m \u001b[0;32min\u001b[0m \u001b[0mstream\u001b[0m \u001b[0mof\u001b[0m \u001b[0mnext\u001b[0m \u001b[0mvariable\u001b[0m\u001b[0;34m\u001b[0m\u001b[0;34m\u001b[0m\u001b[0m\n\u001b[1;32m    346\u001b[0m         '''\n\u001b[0;32m--> 347\u001b[0;31m         \u001b[0mhdr\u001b[0m \u001b[0;34m=\u001b[0m \u001b[0mself\u001b[0m\u001b[0;34m.\u001b[0m\u001b[0m_matrix_reader\u001b[0m\u001b[0;34m.\u001b[0m\u001b[0mread_header\u001b[0m\u001b[0;34m(\u001b[0m\u001b[0;34m)\u001b[0m\u001b[0;34m\u001b[0m\u001b[0;34m\u001b[0m\u001b[0m\n\u001b[0m\u001b[1;32m    348\u001b[0m         \u001b[0mn\u001b[0m \u001b[0;34m=\u001b[0m \u001b[0mreduce\u001b[0m\u001b[0;34m(\u001b[0m\u001b[0;32mlambda\u001b[0m \u001b[0mx\u001b[0m\u001b[0;34m,\u001b[0m \u001b[0my\u001b[0m\u001b[0;34m:\u001b[0m \u001b[0mx\u001b[0m\u001b[0;34m*\u001b[0m\u001b[0my\u001b[0m\u001b[0;34m,\u001b[0m \u001b[0mhdr\u001b[0m\u001b[0;34m.\u001b[0m\u001b[0mdims\u001b[0m\u001b[0;34m,\u001b[0m \u001b[0;36m1\u001b[0m\u001b[0;34m)\u001b[0m  \u001b[0;31m# fast product\u001b[0m\u001b[0;34m\u001b[0m\u001b[0;34m\u001b[0m\u001b[0m\n\u001b[1;32m    349\u001b[0m         \u001b[0mremaining_bytes\u001b[0m \u001b[0;34m=\u001b[0m \u001b[0mhdr\u001b[0m\u001b[0;34m.\u001b[0m\u001b[0mdtype\u001b[0m\u001b[0;34m.\u001b[0m\u001b[0mitemsize\u001b[0m \u001b[0;34m*\u001b[0m \u001b[0mn\u001b[0m\u001b[0;34m\u001b[0m\u001b[0;34m\u001b[0m\u001b[0m\n",
      "\u001b[0;32m~/miniconda3/envs/ox/lib/python3.9/site-packages/scipy/io/matlab/mio4.py\u001b[0m in \u001b[0;36mread_header\u001b[0;34m(self)\u001b[0m\n\u001b[1;32m    104\u001b[0m     \u001b[0;32mdef\u001b[0m \u001b[0mread_header\u001b[0m\u001b[0;34m(\u001b[0m\u001b[0mself\u001b[0m\u001b[0;34m)\u001b[0m\u001b[0;34m:\u001b[0m\u001b[0;34m\u001b[0m\u001b[0;34m\u001b[0m\u001b[0m\n\u001b[1;32m    105\u001b[0m         \u001b[0;34m''' Read and return header for variable '''\u001b[0m\u001b[0;34m\u001b[0m\u001b[0;34m\u001b[0m\u001b[0m\n\u001b[0;32m--> 106\u001b[0;31m         \u001b[0mdata\u001b[0m \u001b[0;34m=\u001b[0m \u001b[0mread_dtype\u001b[0m\u001b[0;34m(\u001b[0m\u001b[0mself\u001b[0m\u001b[0;34m.\u001b[0m\u001b[0mmat_stream\u001b[0m\u001b[0;34m,\u001b[0m \u001b[0mself\u001b[0m\u001b[0;34m.\u001b[0m\u001b[0mdtypes\u001b[0m\u001b[0;34m[\u001b[0m\u001b[0;34m'header'\u001b[0m\u001b[0;34m]\u001b[0m\u001b[0;34m)\u001b[0m\u001b[0;34m\u001b[0m\u001b[0;34m\u001b[0m\u001b[0m\n\u001b[0m\u001b[1;32m    107\u001b[0m         \u001b[0mname\u001b[0m \u001b[0;34m=\u001b[0m \u001b[0mself\u001b[0m\u001b[0;34m.\u001b[0m\u001b[0mmat_stream\u001b[0m\u001b[0;34m.\u001b[0m\u001b[0mread\u001b[0m\u001b[0;34m(\u001b[0m\u001b[0mint\u001b[0m\u001b[0;34m(\u001b[0m\u001b[0mdata\u001b[0m\u001b[0;34m[\u001b[0m\u001b[0;34m'namlen'\u001b[0m\u001b[0;34m]\u001b[0m\u001b[0;34m)\u001b[0m\u001b[0;34m)\u001b[0m\u001b[0;34m.\u001b[0m\u001b[0mstrip\u001b[0m\u001b[0;34m(\u001b[0m\u001b[0;34mb'\\x00'\u001b[0m\u001b[0;34m)\u001b[0m\u001b[0;34m\u001b[0m\u001b[0;34m\u001b[0m\u001b[0m\n\u001b[1;32m    108\u001b[0m         \u001b[0;32mif\u001b[0m \u001b[0mdata\u001b[0m\u001b[0;34m[\u001b[0m\u001b[0;34m'mopt'\u001b[0m\u001b[0;34m]\u001b[0m \u001b[0;34m<\u001b[0m \u001b[0;36m0\u001b[0m \u001b[0;32mor\u001b[0m \u001b[0mdata\u001b[0m\u001b[0;34m[\u001b[0m\u001b[0;34m'mopt'\u001b[0m\u001b[0;34m]\u001b[0m \u001b[0;34m>\u001b[0m \u001b[0;36m5000\u001b[0m\u001b[0;34m:\u001b[0m\u001b[0;34m\u001b[0m\u001b[0;34m\u001b[0m\u001b[0m\n",
      "\u001b[0;32m~/miniconda3/envs/ox/lib/python3.9/site-packages/scipy/io/matlab/miobase.py\u001b[0m in \u001b[0;36mread_dtype\u001b[0;34m(mat_stream, a_dtype)\u001b[0m\n\u001b[1;32m    168\u001b[0m     \"\"\"\n\u001b[1;32m    169\u001b[0m     \u001b[0mnum_bytes\u001b[0m \u001b[0;34m=\u001b[0m \u001b[0ma_dtype\u001b[0m\u001b[0;34m.\u001b[0m\u001b[0mitemsize\u001b[0m\u001b[0;34m\u001b[0m\u001b[0;34m\u001b[0m\u001b[0m\n\u001b[0;32m--> 170\u001b[0;31m     arr = np.ndarray(shape=(),\n\u001b[0m\u001b[1;32m    171\u001b[0m                      \u001b[0mdtype\u001b[0m\u001b[0;34m=\u001b[0m\u001b[0ma_dtype\u001b[0m\u001b[0;34m,\u001b[0m\u001b[0;34m\u001b[0m\u001b[0;34m\u001b[0m\u001b[0m\n\u001b[1;32m    172\u001b[0m                      \u001b[0mbuffer\u001b[0m\u001b[0;34m=\u001b[0m\u001b[0mmat_stream\u001b[0m\u001b[0;34m.\u001b[0m\u001b[0mread\u001b[0m\u001b[0;34m(\u001b[0m\u001b[0mnum_bytes\u001b[0m\u001b[0;34m)\u001b[0m\u001b[0;34m,\u001b[0m\u001b[0;34m\u001b[0m\u001b[0;34m\u001b[0m\u001b[0m\n",
      "\u001b[0;31mTypeError\u001b[0m: buffer is too small for requested array"
     ]
    },
    {
     "data": {
      "text/plain": [
       "<Figure size 864x720 with 0 Axes>"
      ]
     },
     "metadata": {},
     "output_type": "display_data"
    }
   ],
   "source": [
    "load_mat('output/biasfree_5000.mat')"
   ]
  }
 ],
 "metadata": {
  "kernelspec": {
   "display_name": "Python 3",
   "language": "python",
   "name": "python3"
  },
  "language_info": {
   "codemirror_mode": {
    "name": "ipython",
    "version": 3
   },
   "file_extension": ".py",
   "mimetype": "text/x-python",
   "name": "python",
   "nbconvert_exporter": "python",
   "pygments_lexer": "ipython3",
   "version": "3.9.1"
  }
 },
 "nbformat": 4,
 "nbformat_minor": 2
}
